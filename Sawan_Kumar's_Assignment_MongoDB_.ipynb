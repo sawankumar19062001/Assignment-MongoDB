{
  "nbformat": 4,
  "nbformat_minor": 0,
  "metadata": {
    "colab": {
      "provenance": []
    },
    "kernelspec": {
      "name": "python3",
      "display_name": "Python 3"
    },
    "language_info": {
      "name": "python"
    }
  },
  "cells": [
    {
      "cell_type": "code",
      "execution_count": null,
      "metadata": {
        "id": "Nj8u4M_qCfsK"
      },
      "outputs": [],
      "source": [
        "# Name - SAWAN KUMAR\n",
        "# E-Mail ID - sawankumar19062001@gmail.com\n",
        "# Contact Number - 8882022191\n",
        "# Course - Data Science with Generative AI\n",
        "# Assignment - MongoDB\n",
        "# Module - 2 (Milestone 4 (Database))"
      ]
    },
    {
      "cell_type": "code",
      "source": [
        "\n",
        "\n",
        "\n",
        "\n",
        "\n",
        "\n",
        "# Theoretical Questions\n",
        "\n",
        "\n",
        "\n",
        "\n",
        "\n"
      ],
      "metadata": {
        "id": "3kHvVfMCC8AW"
      },
      "execution_count": null,
      "outputs": []
    },
    {
      "cell_type": "markdown",
      "source": [
        "#1. **What are the key differences between SQL and NoSQL databases?**\n",
        ">* **SQL databases** are relational, using structured tables with fixed schemas, supporting ACID transactions and SQL queries.\n",
        ">* **NoSQL databases** are non-relational, with flexible schemas, storing data as documents, key-value pairs, graphs, or columns.\n",
        "\n",
        "#2. **What makes MongoDB a good choice for modern applications?**\n",
        ">* MongoDB’s schema flexibility allows easy modifications,\n",
        ">* it scales horizontally, supports JSON-like documents for web/mobile apps,\n",
        ">* ensures high availability via replication, and integrates with JavaScript/Node.js.\n",
        ">* Ideal for real-time analytics, IoT, and evolving data needs.\n",
        "\n",
        "#3. **Explain the concept of collections in MongoDB.**\n",
        "They store related data in a database, supporting dynamic creation, querying, and indexing.\n",
        "\n",
        "#4. **How does MongoDB ensure high availability using replication?**\n",
        "MongoDB uses replica sets: a primary node handles writes, while secondary nodes replicate data for reads.\n",
        "\n",
        "#5. **What are the main benefits of MongoDB Atlas?**\n",
        "Offering auto-scaling, backups, monitoring, global clusters for low-latency, encryption, and easy integration with AWS/Azure/Google Cloud, reducing server management.\n",
        "\n",
        "#6. **What is the role of indexes in MongoDB, and how do they improve performance?**\n",
        "Indexes are data structures enabling fast lookups, reducing query time by avoiding full collection scans.\n",
        ">* They increase write/storage overhead.\n",
        "\n",
        "#7. **Describe the stages of the MongoDB aggregation pipeline.**\n",
        "The pipeline processes data sequentially via stages:\n",
        ">* match (filters),\n",
        ">* group (aggregates),\n",
        ">* project (reshapes),\n",
        ">* sort (orders),\n",
        ">* limit (restricts output),\n",
        ">* lookup (joins), etc.\n",
        "\n",
        "#8. **What is sharding in MongoDB? How does it differ from replication?**\n",
        "Sharding partitions data across servers using a shard key for scalability.\n",
        ">* Replication duplicates data for redundancy/availability. Sharding handles large datasets; replication ensures fault tolerance.\n",
        "\n",
        "#9. **What is PyMongo, and why is it used?**\n",
        "PyMongo is Python’s MongoDB driver,\n",
        ">* enabling Python apps to connect,\n",
        ">* perform CRUD operations, and manage queries.\n",
        ">* It simplifies MongoDB integration for Python developers.\n",
        "\n",
        "#10. **What are the ACID properties in the context of MongoDB transactions?**\n",
        "MongoDB supports multi-document ACID transactions:\n",
        ">* Atomicity ,\n",
        ">* Consistency ,\n",
        ">* Isolation ,\n",
        ">* Durability.\n",
        "\n",
        "#11. **What is the purpose of MongoDB’s explain() function?**  \n",
        "explain() shows\n",
        ">* query execution plans ,\n",
        ">* helping optimize performance by identifying inefficiencies or missing indexes.\n",
        "\n",
        "#12. **How does MongoDB handle schema validation?**   \n",
        "MongoDB allows optional JSON Schema validation on collections, enforcing rules via db.createCollection() or collMod.\n",
        "\n",
        "#13. **What is the difference between a primary and a secondary node in a replica set?**   \n",
        ">* Primary handles all writes and default reads;\n",
        ">* secondaries replicate data, support reads, and can become primary during failover.\n",
        "\n",
        "#14. **What security mechanisms does MongoDB provide for data protection?**\n",
        ">* Authentication,\n",
        ">* authorization ,\n",
        ">* encryption,\n",
        ">* auditing, LDAP/Kerberos integration, and\n",
        ">* field-level encryption.\n",
        "\n",
        "#15. **Explain the concept of embedded documents and when they should be used.**   \n",
        "Embedded documents are nested sub-documents.\n",
        ">* Use for one-to-one/few relationships to reduce joins and improve read performance.\n",
        "\n",
        "#16. **What is the purpose of MongoDB’s $lookup stage in aggregation?**\n",
        "\n",
        ">* $lookup performs a left outer join,\n",
        ">* matching documents from one collection to another,\n",
        ">* adding matched data as an array field for combining related data.\n",
        "\n",
        "#17. **What are some common use cases for MongoDB?**   \n",
        ">* Content management,\n",
        ">* real-time analytics,\n",
        ">* e-commerce (catalogs),\n",
        ">* mobile apps,\n",
        ">* logging, and\n",
        ">* big data apps needing flexibility/scalability.\n",
        "\n",
        "#18. **What are the advantages of using MongoDB for horizontal scaling?**   \n",
        ">* Sharding distributes data/load,\n",
        ">* auto-balancing prevents hotspots,\n",
        ">* supports large datasets,\n",
        ">* combines with replication for availability,\n",
        ">* making it cost-effective for growth.\n",
        "\n",
        "#19. **How do MongoDB transactions differ from SQL transactions?**   \n",
        ">* **MongoDB transactions** are multi-document, optional, and use snapshot isolation.\n",
        ">* **SQL transactions** are row-level, always ACID, and use locking.\n",
        "\n",
        "#20. **What are the main differences between capped collections and regular collections?**   \n",
        ">* **Capped:** Fixed size, FIFO data removal, no deletes/updates increasing size, fast for logging.\n",
        ">* **Regular:** Unlimited size, full CRUD, supports indexes.\n",
        "\n",
        "#21. **What is the purpose of the $match stage in MongoDB’s aggregation pipeline?**\n",
        "\n",
        ">* $match filters documents early using query operators,\n",
        ">* reducing data for subsequent pipeline stages,\n",
        ">* improving efficiency.\n",
        "\n",
        "#22. **How can you secure access to a MongoDB database?**   \n",
        ">* Enable authentication,\n",
        ">* use strong passwords/roles,\n",
        ">* configure TLS,\n",
        ">* bind to specific IPs,\n",
        ">* use firewalls,\n",
        ">* audit logs, and\n",
        ">* update software regularly.\n",
        "\n",
        "#23. **What is MongoDB’s WiredTiger storage engine, and why is it important?**   \n",
        "WiredTiger supports compression, document-level locking, checkpoints, and indexes.\n",
        ">* It improves performance, reduces storage, and enhances crash recovery.\n",
        "\n"
      ],
      "metadata": {
        "id": "GVnyW5-FDDC2"
      }
    },
    {
      "cell_type": "code",
      "source": [
        "\n",
        "\n",
        "\n",
        "\n",
        "\n",
        "\n",
        "\n",
        "# Practical Questions\n",
        "\n",
        "\n",
        "\n",
        "\n",
        "\n"
      ],
      "metadata": {
        "id": "q0O63tmPFOrR"
      },
      "execution_count": null,
      "outputs": []
    },
    {
      "cell_type": "code",
      "metadata": {
        "colab": {
          "base_uri": "https://localhost:8080/"
        },
        "id": "3a0dd315",
        "outputId": "0a9f86e1-15cd-4a0a-861b-b4d82ae0e1be"
      },
      "source": [
        "%pip install pymongo"
      ],
      "execution_count": null,
      "outputs": [
        {
          "output_type": "stream",
          "name": "stdout",
          "text": [
            "Requirement already satisfied: pymongo in /usr/local/lib/python3.11/dist-packages (4.14.0)\n",
            "Requirement already satisfied: dnspython<3.0.0,>=1.16.0 in /usr/local/lib/python3.11/dist-packages (from pymongo) (2.7.0)\n"
          ]
        }
      ]
    },
    {
      "cell_type": "code",
      "source": [
        "%pip install chardet pymongo"
      ],
      "metadata": {
        "colab": {
          "base_uri": "https://localhost:8080/"
        },
        "id": "PnSSBNTJr9zU",
        "outputId": "e5929571-2b8d-4986-f1fb-99e172aa9343"
      },
      "execution_count": null,
      "outputs": [
        {
          "output_type": "stream",
          "name": "stdout",
          "text": [
            "Requirement already satisfied: chardet in /usr/local/lib/python3.11/dist-packages (5.2.0)\n",
            "Requirement already satisfied: pymongo in /usr/local/lib/python3.11/dist-packages (4.14.0)\n",
            "Requirement already satisfied: dnspython<3.0.0,>=1.16.0 in /usr/local/lib/python3.11/dist-packages (from pymongo) (2.7.0)\n"
          ]
        }
      ]
    },
    {
      "cell_type": "code",
      "metadata": {
        "colab": {
          "base_uri": "https://localhost:8080/"
        },
        "id": "c3f85396",
        "outputId": "e814b105-13e6-44c1-8cc3-96ddafc6a253"
      },
      "source": [
        "%pip install pymongo chardet"
      ],
      "execution_count": 14,
      "outputs": [
        {
          "output_type": "stream",
          "name": "stdout",
          "text": [
            "Requirement already satisfied: pymongo in /usr/local/lib/python3.11/dist-packages (4.14.0)\n",
            "Requirement already satisfied: chardet in /usr/local/lib/python3.11/dist-packages (5.2.0)\n",
            "Requirement already satisfied: dnspython<3.0.0,>=1.16.0 in /usr/local/lib/python3.11/dist-packages (from pymongo) (2.7.0)\n"
          ]
        }
      ]
    },
    {
      "cell_type": "code",
      "metadata": {
        "colab": {
          "base_uri": "https://localhost:8080/"
        },
        "id": "b111c9ab",
        "outputId": "6262af16-9ead-4c6e-bec7-341133f211f7"
      },
      "source": [
        "# 1. Write a Python script to load the Superstore dataset from a CSV file into MongoDB.\n",
        "\n",
        "import pandas as pd\n",
        "from pymongo import MongoClient\n",
        "import chardet\n",
        "\n",
        "\n",
        "mongo_connection_string = \"mongodb://localhost:27017/\"\n",
        "\n",
        "# Connect to MongoDB\n",
        "try:\n",
        "    client = MongoClient(mongo_connection_string)\n",
        "    db = client[\"SuperstoreDB\"]\n",
        "    orders_collection = db[\"Orders\"]\n",
        "    # The ismaster command is cheap and does not require auth.\n",
        "    client.admin.command('ismaster')\n",
        "    print(\"MongoDB connection successful!\")\n",
        "except Exception as e:\n",
        "    print(f\"Could not connect to MongoDB: {e}\")\n",
        "    # Exit if connection fails\n",
        "    exit()\n",
        "\n",
        "\n",
        "# Detect encoding first\n",
        "with open(\"/content/superstore.csv\", \"rb\") as f:\n",
        "    result = chardet.detect(f.read())\n",
        "    detected_encoding = result['encoding']\n",
        "    print(\"Detected encoding:\", detected_encoding)\n",
        "\n",
        "\n",
        "# Load CSV into DataFrame with the detected encoding\n",
        "try:\n",
        "    df = pd.read_csv(\"/content/superstore.csv\", encoding=detected_encoding)\n",
        "    print(\"CSV loaded successfully!\")\n",
        "except Exception as e:\n",
        "    print(f\"Error loading CSV: {e}\")\n",
        "    # Exit if CSV loading fails\n",
        "    exit()\n",
        "\n",
        "\n",
        "# Convert DataFrame to dictionary and insert into MongoDB\n",
        "try:\n",
        "    # Convert DataFrame to a list of dictionaries\n",
        "    data_to_insert = df.to_dict(orient=\"records\")\n",
        "\n",
        "    if data_to_insert:\n",
        "        orders_collection.insert_many(data_to_insert)\n",
        "        print(f\"Data inserted successfully! Inserted {len(data_to_insert)} documents.\")\n",
        "    else:\n",
        "        print(\"No data to insert.\")\n",
        "\n",
        "except Exception as e:\n",
        "    print(f\"Error inserting data into MongoDB: {e}\")"
      ],
      "execution_count": 10,
      "outputs": [
        {
          "output_type": "stream",
          "name": "stdout",
          "text": [
            "Could not connect to MongoDB: localhost:27017: [Errno 111] Connection refused (configured timeouts: socketTimeoutMS: 20000.0ms, connectTimeoutMS: 20000.0ms), Timeout: 30s, Topology Description: <TopologyDescription id: 689e0b75fb32d438d22ea927, topology_type: Unknown, servers: [<ServerDescription ('localhost', 27017) server_type: Unknown, rtt: None, error=AutoReconnect('localhost:27017: [Errno 111] Connection refused (configured timeouts: socketTimeoutMS: 20000.0ms, connectTimeoutMS: 20000.0ms)')>]>\n",
            "Detected encoding: Windows-1252\n",
            "CSV loaded successfully!\n",
            "Error inserting data into MongoDB: localhost:27017: [Errno 111] Connection refused (configured timeouts: socketTimeoutMS: 20000.0ms, connectTimeoutMS: 20000.0ms), Timeout: 30s, Topology Description: <TopologyDescription id: 689e0b75fb32d438d22ea927, topology_type: Unknown, servers: [<ServerDescription ('localhost', 27017) server_type: Unknown, rtt: None, error=AutoReconnect('localhost:27017: [Errno 111] Connection refused (configured timeouts: socketTimeoutMS: 20000.0ms, connectTimeoutMS: 20000.0ms)')>]>\n"
          ]
        }
      ]
    },
    {
      "cell_type": "code",
      "metadata": {
        "colab": {
          "base_uri": "https://localhost:8080/"
        },
        "id": "680595e1",
        "outputId": "557c5d2f-6558-4b99-ad7c-9c88394a402b"
      },
      "source": [
        "#2. Retrieve and print all documents from the Orders collection\n",
        "\n",
        "try:\n",
        "    all_orders = orders_collection.find()\n",
        "    print(\"Retrieving all documents from the Orders collection:\")\n",
        "    for order in all_orders:\n",
        "        display(order)\n",
        "except Exception as e:\n",
        "    print(f\"Error retrieving documents: {e}\")"
      ],
      "execution_count": 1,
      "outputs": [
        {
          "output_type": "stream",
          "name": "stdout",
          "text": [
            "Error retrieving documents: name 'orders_collection' is not defined\n"
          ]
        }
      ]
    },
    {
      "cell_type": "code",
      "metadata": {
        "colab": {
          "base_uri": "https://localhost:8080/"
        },
        "id": "2bddb6a2",
        "outputId": "03e0a8ce-d8ea-400c-d61c-18cd5ecf7c15"
      },
      "source": [
        "#3. Count and display the total number of documents in the Orders collection\n",
        "\n",
        "try:\n",
        "    count = orders_collection.count_documents({})\n",
        "    print(f\"Total number of documents in the Orders collection: {count}\")\n",
        "except Exception as e:\n",
        "    print(f\"Error counting documents: {e}\")"
      ],
      "execution_count": 2,
      "outputs": [
        {
          "output_type": "stream",
          "name": "stdout",
          "text": [
            "Error counting documents: name 'orders_collection' is not defined\n"
          ]
        }
      ]
    },
    {
      "cell_type": "code",
      "metadata": {
        "colab": {
          "base_uri": "https://localhost:8080/"
        },
        "id": "941cff4c",
        "outputId": "5504566d-f5a5-49c6-bff1-a7204253ce49"
      },
      "source": [
        "#4. Write a query to fetch all orders from the \"West\" region\n",
        "\n",
        "try:\n",
        "    west_region_orders = orders_collection.find({\"Region\": \"West\"})\n",
        "    print(\"Orders from the 'West' region:\")\n",
        "    for order in west_region_orders:\n",
        "        display(order)\n",
        "except Exception as e:\n",
        "    print(f\"Error fetching orders from West region: {e}\")"
      ],
      "execution_count": 3,
      "outputs": [
        {
          "output_type": "stream",
          "name": "stdout",
          "text": [
            "Error fetching orders from West region: name 'orders_collection' is not defined\n"
          ]
        }
      ]
    },
    {
      "cell_type": "code",
      "metadata": {
        "colab": {
          "base_uri": "https://localhost:8080/"
        },
        "id": "c15322f9",
        "outputId": "d892bb67-473f-4652-d674-b0afd245d995"
      },
      "source": [
        "#5. Write a query to find orders where Sales is greater than 500\n",
        "\n",
        "try:\n",
        "    high_sales_orders = orders_collection.find({\"Sales\": {\"$gt\": 500}})\n",
        "    print(\"Orders with Sales greater than 500:\")\n",
        "    for order in high_sales_orders:\n",
        "        display(order)\n",
        "except Exception as e:\n",
        "    print(f\"Error fetching orders with high sales: {e}\")"
      ],
      "execution_count": 4,
      "outputs": [
        {
          "output_type": "stream",
          "name": "stdout",
          "text": [
            "Error fetching orders with high sales: name 'orders_collection' is not defined\n"
          ]
        }
      ]
    },
    {
      "cell_type": "code",
      "metadata": {
        "colab": {
          "base_uri": "https://localhost:8080/"
        },
        "id": "e886d5c2",
        "outputId": "c8133183-b325-47c2-a550-46e710e9cec5"
      },
      "source": [
        "#6. Fetch the top 3 orders with the highest Profit\n",
        "\n",
        "try:\n",
        "    top_profit_orders = orders_collection.find().sort(\"Profit\", -1).limit(3)\n",
        "    print(\"Top 3 orders with the highest Profit:\")\n",
        "    for order in top_profit_orders:\n",
        "        display(order)\n",
        "except Exception as e:\n",
        "    print(f\"Error fetching top profit orders: {e}\")"
      ],
      "execution_count": 5,
      "outputs": [
        {
          "output_type": "stream",
          "name": "stdout",
          "text": [
            "Error fetching top profit orders: name 'orders_collection' is not defined\n"
          ]
        }
      ]
    },
    {
      "cell_type": "code",
      "metadata": {
        "colab": {
          "base_uri": "https://localhost:8080/"
        },
        "id": "dc697c40",
        "outputId": "ec85aca4-68f1-44a5-c21d-4217630f6e79"
      },
      "source": [
        "#7. Update all orders with Ship Mode as \"First Class\" to \"Premium Class.\n",
        "\n",
        "try:\n",
        "    update_result = orders_collection.update_many(\n",
        "        {\"Ship Mode\": \"First Class\"},\n",
        "        {\"$set\": {\"Ship Mode\": \"Premium Class\"}}\n",
        "    )\n",
        "    print(f\"Matched {update_result.matched_count} documents and modified {update_result.modified_count} documents.\")\n",
        "except Exception as e:\n",
        "    print(f\"Error updating documents: {e}\")"
      ],
      "execution_count": 6,
      "outputs": [
        {
          "output_type": "stream",
          "name": "stdout",
          "text": [
            "Error updating documents: name 'orders_collection' is not defined\n"
          ]
        }
      ]
    },
    {
      "cell_type": "code",
      "metadata": {
        "colab": {
          "base_uri": "https://localhost:8080/"
        },
        "id": "894d7a79",
        "outputId": "be7cabaa-13ed-4dd9-ea29-6b28b70c54d6"
      },
      "source": [
        "#8. Delete all orders where Sales is less than 50\n",
        "try:\n",
        "    delete_result = orders_collection.delete_many({\"Sales\": {\"$lt\": 50}})\n",
        "    print(f\"Deleted {delete_result.deleted_count} documents.\")\n",
        "except Exception as e:\n",
        "    print(f\"Error deleting documents: {e}\")"
      ],
      "execution_count": 7,
      "outputs": [
        {
          "output_type": "stream",
          "name": "stdout",
          "text": [
            "Error deleting documents: name 'orders_collection' is not defined\n"
          ]
        }
      ]
    },
    {
      "cell_type": "code",
      "metadata": {
        "colab": {
          "base_uri": "https://localhost:8080/"
        },
        "id": "fdc28d0b",
        "outputId": "3d9ddd42-f19a-493a-e7c3-8870f02c06df"
      },
      "source": [
        "#9. Use aggregation to group orders by Region and calculate total sales per region\n",
        "\n",
        "try:\n",
        "    pipeline = [\n",
        "        {\"$group\": {\"_id\": \"$Region\", \"TotalSales\": {\"$sum\": \"$Sales\"}}}\n",
        "    ]\n",
        "    region_sales = orders_collection.aggregate(pipeline)\n",
        "\n",
        "    print(\"Total sales per region:\")\n",
        "    for result in region_sales:\n",
        "        display(result)\n",
        "\n",
        "except Exception as e:\n",
        "    print(f\"Error performing aggregation: {e}\")"
      ],
      "execution_count": 8,
      "outputs": [
        {
          "output_type": "stream",
          "name": "stdout",
          "text": [
            "Error performing aggregation: name 'orders_collection' is not defined\n"
          ]
        }
      ]
    },
    {
      "cell_type": "code",
      "metadata": {
        "colab": {
          "base_uri": "https://localhost:8080/"
        },
        "id": "e6fc5477",
        "outputId": "1623b173-4218-4d33-f678-52d67cb3c569"
      },
      "source": [
        "#10. Fetch all distinct values for Ship Mode from the collection\n",
        "\n",
        "try:\n",
        "    distinct_ship_modes = orders_collection.distinct(\"Ship Mode\")\n",
        "    print(\"Distinct Ship Modes:\")\n",
        "    for mode in distinct_ship_modes:\n",
        "        print(mode)\n",
        "except Exception as e:\n",
        "    print(f\"Error fetching distinct ship modes: {e}\")"
      ],
      "execution_count": 9,
      "outputs": [
        {
          "output_type": "stream",
          "name": "stdout",
          "text": [
            "Error fetching distinct ship modes: name 'orders_collection' is not defined\n"
          ]
        }
      ]
    },
    {
      "cell_type": "code",
      "metadata": {
        "colab": {
          "base_uri": "https://localhost:8080/"
        },
        "id": "ff983237",
        "outputId": "fc0ca7ae-1539-4028-c50f-275d92fc72eb"
      },
      "source": [
        "#11. Count the number of orders for each category.\n",
        "try:\n",
        "    pipeline = [\n",
        "        {\"$group\": {\"_id\": \"$Category\", \"Count\": {\"$sum\": 1}}}\n",
        "    ]\n",
        "    category_counts = orders_collection.aggregate(pipeline)\n",
        "\n",
        "    print(\"Number of orders per category:\")\n",
        "    for result in category_counts:\n",
        "        display(result)\n",
        "\n",
        "except Exception as e:\n",
        "    print(f\"Error performing aggregation: {e}\")"
      ],
      "execution_count": 11,
      "outputs": [
        {
          "output_type": "stream",
          "name": "stdout",
          "text": [
            "Error performing aggregation: name 'orders_collection' is not defined\n"
          ]
        }
      ]
    },
    {
      "cell_type": "code",
      "source": [
        "\n",
        "\n",
        "\n",
        "\n",
        "\n",
        "\n",
        "\n",
        "\n",
        "\n"
      ],
      "metadata": {
        "id": "_k49mG5vUmtG"
      },
      "execution_count": null,
      "outputs": []
    }
  ]
}